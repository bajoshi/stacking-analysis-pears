{
 "cells": [
  {
   "cell_type": "code",
   "execution_count": 8,
   "metadata": {},
   "outputs": [
    {
     "name": "stdout",
     "output_type": "stream",
     "text": [
      "Stack fitting Jupyter module.\n"
     ]
    }
   ],
   "source": [
    "print(\"Stack fitting Jupyter module.\")"
   ]
  },
  {
   "cell_type": "markdown",
   "metadata": {},
   "source": [
    "Test to include latex math: $\\mathrm{F_\\lambda\\ [erg\\, s^{-1}\\, cm^{-2}\\, \\AA]} \n",
    "= \\frac{L \\times L_\\odot}{4 \\pi d_l^2}$"
   ]
  },
  {
   "cell_type": "code",
   "execution_count": 18,
   "metadata": {},
   "outputs": [
    {
     "name": "stdout",
     "output_type": "stream",
     "text": [
      "Using matplotlibrc: /Users/bhavinjoshi/miniconda3/envs/astroconda/lib/python3.6/site-packages/matplotlib/mpl-data/matplotlibrc\n"
     ]
    }
   ],
   "source": [
    "import numpy as np\n",
    "import matplotlib.pyplot as plt\n",
    "\n",
    "import emcee\n",
    "import corner\n",
    "\n",
    "# Check that it imported the correct matplotlibrc\n",
    "import matplotlib\n",
    "print(\"Using matplotlibrc:\", matplotlib.matplotlib_fname())\n",
    "\n",
    "%matplotlib inline\n",
    "# To get figures to show up within the notebook\n",
    "\n",
    "import os\n",
    "import sys\n",
    "\n",
    "home = os.getenv('HOME')\n",
    "figs_dir = home + \"/Documents/pears_figs_data/\"\n",
    "stacking_analysis_dir = home + \"/Documents/GitHub/stacking-analysis-pears/\"\n",
    "stacking_figures_dir = home + \"/Documents/stacking_figures/\"\n",
    "massive_galaxies_dir = home + \"/Documents/GitHub/massive-galaxies/\"\n",
    "pears_spectra_dir = home + \"/Documents/pears_figs_data/data_spectra_only/\"\n"
   ]
  },
  {
   "cell_type": "code",
   "execution_count": 19,
   "metadata": {},
   "outputs": [],
   "source": [
    "# Define redshift range \n",
    "z_low = 0.16\n",
    "z_high = 0.96"
   ]
  },
  {
   "cell_type": "code",
   "execution_count": 20,
   "metadata": {},
   "outputs": [],
   "source": [
    "# Load in saved stack\n",
    "stack = np.genfromtxt(stacking_analysis_dir + 'massive_stack_pears_' + str(z_low) + 'z' + str(z_high) + '.txt', \\\n",
    "                      dtype=None, names=['lam', 'flam', 'flam_err'], encoding='ascii')"
   ]
  },
  {
   "cell_type": "code",
   "execution_count": null,
   "metadata": {},
   "outputs": [],
   "source": []
  }
 ],
 "metadata": {
  "kernelspec": {
   "display_name": "Python 3",
   "language": "python",
   "name": "python3"
  },
  "language_info": {
   "codemirror_mode": {
    "name": "ipython",
    "version": 3
   },
   "file_extension": ".py",
   "mimetype": "text/x-python",
   "name": "python",
   "nbconvert_exporter": "python",
   "pygments_lexer": "ipython3",
   "version": "3.6.10"
  }
 },
 "nbformat": 4,
 "nbformat_minor": 4
}
